{
 "cells": [
  {
   "cell_type": "code",
   "execution_count": 17,
   "metadata": {},
   "outputs": [],
   "source": [
    "import pandas as pd\n",
    "import numpy as np\n",
    "import os\n",
    "from sklearn.impute import SimpleImputer\n",
    "from sklearn.preprocessing import LabelEncoder\n",
    "from scipy import stats"
   ]
  },
  {
   "cell_type": "code",
   "execution_count": 18,
   "metadata": {},
   "outputs": [],
   "source": [
    "df=pd.read_csv('data.csv',engine='python')"
   ]
  },
  {
   "cell_type": "code",
   "execution_count": 21,
   "metadata": {},
   "outputs": [],
   "source": [
    "\n",
    "df=df.drop(['mths_since_last_major_derog','mths_since_last_delinq','mths_since_last_record','member_id ','grade','sub_grade','Emp_designation','Experience','home_ownership'],axis=1)"
   ]
  },
  {
   "cell_type": "code",
   "execution_count": 23,
   "metadata": {},
   "outputs": [],
   "source": [
    "df=df.drop(['batch_ID '],axis=1)"
   ]
  },
  {
   "cell_type": "code",
   "execution_count": 24,
   "metadata": {},
   "outputs": [],
   "source": [
    "df1=df[df.columns[df.isnull().any()]] \n",
    "df2=df[df.columns[~df.isnull().any()]]"
   ]
  },
  {
   "cell_type": "code",
   "execution_count": 25,
   "metadata": {},
   "outputs": [],
   "source": [
    "df11=df1.drop(['verification_status_joint'],axis=1)"
   ]
  },
  {
   "cell_type": "code",
   "execution_count": 26,
   "metadata": {},
   "outputs": [],
   "source": [
    "n=df11.columns"
   ]
  },
  {
   "cell_type": "code",
   "execution_count": 27,
   "metadata": {},
   "outputs": [],
   "source": [
    "#Filling missing values to numerical variables\n",
    "mp_mean = SimpleImputer(missing_values=np.nan, strategy='mean')\n",
    "mp_median = SimpleImputer(missing_values=np.nan, strategy='median')\n",
    "df11=mp_median.fit_transform(df11)"
   ]
  },
  {
   "cell_type": "code",
   "execution_count": 29,
   "metadata": {},
   "outputs": [],
   "source": [
    "df13=pd.DataFrame(df11)"
   ]
  },
  {
   "cell_type": "code",
   "execution_count": 31,
   "metadata": {},
   "outputs": [],
   "source": [
    "df13.columns=n"
   ]
  },
  {
   "cell_type": "code",
   "execution_count": 34,
   "metadata": {},
   "outputs": [],
   "source": [
    "df=pd.concat([df2 ,df13],axis=1)"
   ]
  },
  {
   "cell_type": "code",
   "execution_count": 41,
   "metadata": {},
   "outputs": [],
   "source": [
    "lb_make = LabelEncoder()"
   ]
  },
  {
   "cell_type": "code",
   "execution_count": 43,
   "metadata": {},
   "outputs": [],
   "source": [
    "category_col =['terms', 'verification_status', 'purpose', 'State', 'initial_list_status', \n",
    "               'application_type'] \n",
    "mapping_dict = {}\n",
    "for col in category_col:\n",
    "    df[col] = lb_make.fit_transform(df[col]) \n",
    "\n",
    "    le_name_mapping = dict(zip(lb_make.classes_, \n",
    "                        lb_make.transform(lb_make.classes_))) \n",
    "\n",
    "    mapping_dict[col]= le_name_mapping "
   ]
  },
  {
   "cell_type": "code",
   "execution_count": 46,
   "metadata": {},
   "outputs": [
    {
     "output_type": "execute_result",
     "data": {
      "text/plain": "{'State': {0: 0,\n  1: 1,\n  2: 2,\n  3: 3,\n  4: 4,\n  5: 5,\n  6: 6,\n  7: 7,\n  8: 8,\n  9: 9,\n  10: 10,\n  11: 11,\n  12: 12,\n  13: 13,\n  14: 14,\n  15: 15,\n  16: 16,\n  17: 17,\n  18: 18,\n  19: 19,\n  20: 20,\n  21: 21,\n  22: 22,\n  23: 23,\n  24: 24,\n  25: 25,\n  26: 26,\n  27: 27,\n  28: 28,\n  29: 29,\n  30: 30,\n  31: 31,\n  32: 32,\n  33: 33,\n  34: 34,\n  35: 35,\n  36: 36,\n  37: 37,\n  38: 38,\n  39: 39,\n  40: 40,\n  41: 41,\n  42: 42,\n  43: 43,\n  44: 44,\n  45: 45,\n  46: 46,\n  47: 47,\n  48: 48,\n  49: 49,\n  50: 50,\n  51: 51,\n  52: 52,\n  53: 53,\n  54: 54,\n  55: 55,\n  56: 56,\n  57: 57,\n  58: 58,\n  59: 59,\n  60: 60,\n  61: 61,\n  62: 62,\n  63: 63,\n  64: 64,\n  65: 65,\n  66: 66,\n  67: 67,\n  68: 68,\n  69: 69,\n  70: 70,\n  71: 71,\n  72: 72,\n  73: 73,\n  74: 74,\n  75: 75,\n  76: 76,\n  77: 77,\n  78: 78,\n  79: 79,\n  80: 80,\n  81: 81,\n  82: 82,\n  83: 83,\n  84: 84,\n  85: 85,\n  86: 86,\n  87: 87,\n  88: 88,\n  89: 89,\n  90: 90,\n  91: 91,\n  92: 92,\n  93: 93,\n  94: 94,\n  95: 95,\n  96: 96,\n  97: 97}}"
     },
     "metadata": {},
     "execution_count": 46
    }
   ],
   "source": [
    "mapping_dict"
   ]
  },
  {
   "cell_type": "code",
   "execution_count": 14,
   "metadata": {},
   "outputs": [],
   "source": [
    "y=df[['total revol_bal']]"
   ]
  },
  {
   "cell_type": "code",
   "execution_count": 15,
   "metadata": {},
   "outputs": [],
   "source": [
    "x=df.iloc[:,[0, 1, 2, 3, 4, 5, 6, 8, 9, 10, 11, 12, 13,\n",
    "                15, 16, 17, 18, 19, 20, 21, 22, 23, 24]]"
   ]
  },
  {
   "cell_type": "code",
   "execution_count": 16,
   "metadata": {},
   "outputs": [
    {
     "output_type": "execute_result",
     "data": {
      "text/plain": "Index([                    'terms',            'Rate_of_intrst',\n             'verification_status',                   'purpose',\n                           'State',         'debt_income_ratio',\n             'initial_list_status',             'total_rec_int',\n              'total_rec_late_fee',                'recoveries',\n         'collection_recovery_fee',          'application_type',\n                   'last_week_pay', 'verification_status_joint',\n                                 0,                           1,\n                                 2,                           3,\n                                 4,                           5,\n                                 6,                           7,\n                                 8,                           9],\n      dtype='object')"
     },
     "metadata": {},
     "execution_count": 16
    }
   ],
   "source": [
    "x.columns"
   ]
  },
  {
   "cell_type": "code",
   "execution_count": 48,
   "metadata": {},
   "outputs": [
    {
     "data": {
      "text/html": [
       "<div>\n",
       "<style scoped>\n",
       "    .dataframe tbody tr th:only-of-type {\n",
       "        vertical-align: middle;\n",
       "    }\n",
       "\n",
       "    .dataframe tbody tr th {\n",
       "        vertical-align: top;\n",
       "    }\n",
       "\n",
       "    .dataframe thead th {\n",
       "        text-align: right;\n",
       "    }\n",
       "</style>\n",
       "<table border=\"1\" class=\"dataframe\">\n",
       "  <thead>\n",
       "    <tr style=\"text-align: right;\">\n",
       "      <th></th>\n",
       "      <th>total revol_bal</th>\n",
       "    </tr>\n",
       "  </thead>\n",
       "  <tbody>\n",
       "    <tr>\n",
       "      <th>0</th>\n",
       "      <td>22515.0</td>\n",
       "    </tr>\n",
       "    <tr>\n",
       "      <th>1</th>\n",
       "      <td>7624.0</td>\n",
       "    </tr>\n",
       "    <tr>\n",
       "      <th>2</th>\n",
       "      <td>10877.0</td>\n",
       "    </tr>\n",
       "    <tr>\n",
       "      <th>3</th>\n",
       "      <td>13712.0</td>\n",
       "    </tr>\n",
       "    <tr>\n",
       "      <th>4</th>\n",
       "      <td>35835.0</td>\n",
       "    </tr>\n",
       "    <tr>\n",
       "      <th>...</th>\n",
       "      <td>...</td>\n",
       "    </tr>\n",
       "    <tr>\n",
       "      <th>887374</th>\n",
       "      <td>12201.0</td>\n",
       "    </tr>\n",
       "    <tr>\n",
       "      <th>887375</th>\n",
       "      <td>52584.0</td>\n",
       "    </tr>\n",
       "    <tr>\n",
       "      <th>887376</th>\n",
       "      <td>10948.0</td>\n",
       "    </tr>\n",
       "    <tr>\n",
       "      <th>887377</th>\n",
       "      <td>33599.0</td>\n",
       "    </tr>\n",
       "    <tr>\n",
       "      <th>887378</th>\n",
       "      <td>5118.0</td>\n",
       "    </tr>\n",
       "  </tbody>\n",
       "</table>\n",
       "<p>887379 rows × 1 columns</p>\n",
       "</div>"
      ],
      "text/plain": [
       "        total revol_bal\n",
       "0               22515.0\n",
       "1                7624.0\n",
       "2               10877.0\n",
       "3               13712.0\n",
       "4               35835.0\n",
       "...                 ...\n",
       "887374          12201.0\n",
       "887375          52584.0\n",
       "887376          10948.0\n",
       "887377          33599.0\n",
       "887378           5118.0\n",
       "\n",
       "[887379 rows x 1 columns]"
      ]
     },
     "execution_count": 48,
     "metadata": {},
     "output_type": "execute_result"
    }
   ],
   "source": [
    "y"
   ]
  },
  {
   "cell_type": "code",
   "execution_count": 49,
   "metadata": {},
   "outputs": [
    {
     "data": {
      "text/html": [
       "<div>\n",
       "<style scoped>\n",
       "    .dataframe tbody tr th:only-of-type {\n",
       "        vertical-align: middle;\n",
       "    }\n",
       "\n",
       "    .dataframe tbody tr th {\n",
       "        vertical-align: top;\n",
       "    }\n",
       "\n",
       "    .dataframe thead th {\n",
       "        text-align: right;\n",
       "    }\n",
       "</style>\n",
       "<table border=\"1\" class=\"dataframe\">\n",
       "  <thead>\n",
       "    <tr style=\"text-align: right;\">\n",
       "      <th></th>\n",
       "      <th>terms</th>\n",
       "      <th>Rate_of_intrst</th>\n",
       "      <th>verification_status</th>\n",
       "      <th>purpose</th>\n",
       "      <th>State</th>\n",
       "      <th>debt_income_ratio</th>\n",
       "      <th>initial_list_status</th>\n",
       "      <th>total_rec_int</th>\n",
       "      <th>total_rec_late_fee</th>\n",
       "      <th>recoveries</th>\n",
       "      <th>...</th>\n",
       "      <th>annual_inc</th>\n",
       "      <th>delinq_2yrs</th>\n",
       "      <th>inq_last_6mths</th>\n",
       "      <th>numb_credit</th>\n",
       "      <th>pub_rec</th>\n",
       "      <th>total_credits</th>\n",
       "      <th>collections_12_mths_ex_med</th>\n",
       "      <th>acc_now_delinq</th>\n",
       "      <th>tot_colle_amt</th>\n",
       "      <th>tot_curr_bal</th>\n",
       "    </tr>\n",
       "  </thead>\n",
       "  <tbody>\n",
       "    <tr>\n",
       "      <th>0</th>\n",
       "      <td>0</td>\n",
       "      <td>19.19</td>\n",
       "      <td>1</td>\n",
       "      <td>2</td>\n",
       "      <td>9</td>\n",
       "      <td>33.88</td>\n",
       "      <td>0</td>\n",
       "      <td>1173.84</td>\n",
       "      <td>0.0</td>\n",
       "      <td>0.0</td>\n",
       "      <td>...</td>\n",
       "      <td>28700.0</td>\n",
       "      <td>0.0</td>\n",
       "      <td>1.0</td>\n",
       "      <td>14.0</td>\n",
       "      <td>1.0</td>\n",
       "      <td>28.0</td>\n",
       "      <td>0.0</td>\n",
       "      <td>0.0</td>\n",
       "      <td>0.0</td>\n",
       "      <td>28699.0</td>\n",
       "    </tr>\n",
       "    <tr>\n",
       "      <th>1</th>\n",
       "      <td>0</td>\n",
       "      <td>10.99</td>\n",
       "      <td>1</td>\n",
       "      <td>4</td>\n",
       "      <td>20</td>\n",
       "      <td>3.64</td>\n",
       "      <td>1</td>\n",
       "      <td>83.95</td>\n",
       "      <td>0.0</td>\n",
       "      <td>0.0</td>\n",
       "      <td>...</td>\n",
       "      <td>65000.0</td>\n",
       "      <td>0.0</td>\n",
       "      <td>1.0</td>\n",
       "      <td>6.0</td>\n",
       "      <td>0.0</td>\n",
       "      <td>13.0</td>\n",
       "      <td>0.0</td>\n",
       "      <td>0.0</td>\n",
       "      <td>0.0</td>\n",
       "      <td>9974.0</td>\n",
       "    </tr>\n",
       "    <tr>\n",
       "      <th>2</th>\n",
       "      <td>0</td>\n",
       "      <td>7.26</td>\n",
       "      <td>0</td>\n",
       "      <td>2</td>\n",
       "      <td>35</td>\n",
       "      <td>18.42</td>\n",
       "      <td>1</td>\n",
       "      <td>56.47</td>\n",
       "      <td>0.0</td>\n",
       "      <td>0.0</td>\n",
       "      <td>...</td>\n",
       "      <td>45000.0</td>\n",
       "      <td>0.0</td>\n",
       "      <td>0.0</td>\n",
       "      <td>5.0</td>\n",
       "      <td>0.0</td>\n",
       "      <td>19.0</td>\n",
       "      <td>0.0</td>\n",
       "      <td>0.0</td>\n",
       "      <td>65.0</td>\n",
       "      <td>38295.0</td>\n",
       "    </tr>\n",
       "    <tr>\n",
       "      <th>3</th>\n",
       "      <td>0</td>\n",
       "      <td>19.72</td>\n",
       "      <td>0</td>\n",
       "      <td>2</td>\n",
       "      <td>45</td>\n",
       "      <td>14.97</td>\n",
       "      <td>0</td>\n",
       "      <td>4858.62</td>\n",
       "      <td>0.0</td>\n",
       "      <td>0.0</td>\n",
       "      <td>...</td>\n",
       "      <td>105000.0</td>\n",
       "      <td>0.0</td>\n",
       "      <td>2.0</td>\n",
       "      <td>10.0</td>\n",
       "      <td>0.0</td>\n",
       "      <td>21.0</td>\n",
       "      <td>0.0</td>\n",
       "      <td>0.0</td>\n",
       "      <td>0.0</td>\n",
       "      <td>55564.0</td>\n",
       "    </tr>\n",
       "    <tr>\n",
       "      <th>4</th>\n",
       "      <td>0</td>\n",
       "      <td>10.64</td>\n",
       "      <td>2</td>\n",
       "      <td>1</td>\n",
       "      <td>4</td>\n",
       "      <td>20.16</td>\n",
       "      <td>1</td>\n",
       "      <td>2296.41</td>\n",
       "      <td>0.0</td>\n",
       "      <td>0.0</td>\n",
       "      <td>...</td>\n",
       "      <td>52000.0</td>\n",
       "      <td>0.0</td>\n",
       "      <td>0.0</td>\n",
       "      <td>11.0</td>\n",
       "      <td>0.0</td>\n",
       "      <td>27.0</td>\n",
       "      <td>0.0</td>\n",
       "      <td>0.0</td>\n",
       "      <td>0.0</td>\n",
       "      <td>47159.0</td>\n",
       "    </tr>\n",
       "    <tr>\n",
       "      <th>...</th>\n",
       "      <td>...</td>\n",
       "      <td>...</td>\n",
       "      <td>...</td>\n",
       "      <td>...</td>\n",
       "      <td>...</td>\n",
       "      <td>...</td>\n",
       "      <td>...</td>\n",
       "      <td>...</td>\n",
       "      <td>...</td>\n",
       "      <td>...</td>\n",
       "      <td>...</td>\n",
       "      <td>...</td>\n",
       "      <td>...</td>\n",
       "      <td>...</td>\n",
       "      <td>...</td>\n",
       "      <td>...</td>\n",
       "      <td>...</td>\n",
       "      <td>...</td>\n",
       "      <td>...</td>\n",
       "      <td>...</td>\n",
       "      <td>...</td>\n",
       "    </tr>\n",
       "    <tr>\n",
       "      <th>887374</th>\n",
       "      <td>0</td>\n",
       "      <td>6.49</td>\n",
       "      <td>0</td>\n",
       "      <td>1</td>\n",
       "      <td>43</td>\n",
       "      <td>12.46</td>\n",
       "      <td>1</td>\n",
       "      <td>1180.32</td>\n",
       "      <td>0.0</td>\n",
       "      <td>0.0</td>\n",
       "      <td>...</td>\n",
       "      <td>97250.0</td>\n",
       "      <td>0.0</td>\n",
       "      <td>0.0</td>\n",
       "      <td>12.0</td>\n",
       "      <td>0.0</td>\n",
       "      <td>24.0</td>\n",
       "      <td>0.0</td>\n",
       "      <td>0.0</td>\n",
       "      <td>0.0</td>\n",
       "      <td>143920.0</td>\n",
       "    </tr>\n",
       "    <tr>\n",
       "      <th>887375</th>\n",
       "      <td>1</td>\n",
       "      <td>25.89</td>\n",
       "      <td>2</td>\n",
       "      <td>2</td>\n",
       "      <td>34</td>\n",
       "      <td>11.78</td>\n",
       "      <td>0</td>\n",
       "      <td>6508.41</td>\n",
       "      <td>0.0</td>\n",
       "      <td>0.0</td>\n",
       "      <td>...</td>\n",
       "      <td>180000.0</td>\n",
       "      <td>2.0</td>\n",
       "      <td>2.0</td>\n",
       "      <td>21.0</td>\n",
       "      <td>0.0</td>\n",
       "      <td>33.0</td>\n",
       "      <td>0.0</td>\n",
       "      <td>0.0</td>\n",
       "      <td>0.0</td>\n",
       "      <td>772713.0</td>\n",
       "    </tr>\n",
       "    <tr>\n",
       "      <th>887376</th>\n",
       "      <td>1</td>\n",
       "      <td>17.51</td>\n",
       "      <td>2</td>\n",
       "      <td>4</td>\n",
       "      <td>30</td>\n",
       "      <td>16.44</td>\n",
       "      <td>0</td>\n",
       "      <td>3456.24</td>\n",
       "      <td>0.0</td>\n",
       "      <td>0.0</td>\n",
       "      <td>...</td>\n",
       "      <td>56000.0</td>\n",
       "      <td>0.0</td>\n",
       "      <td>3.0</td>\n",
       "      <td>11.0</td>\n",
       "      <td>1.0</td>\n",
       "      <td>25.0</td>\n",
       "      <td>0.0</td>\n",
       "      <td>0.0</td>\n",
       "      <td>0.0</td>\n",
       "      <td>80559.0</td>\n",
       "    </tr>\n",
       "    <tr>\n",
       "      <th>887377</th>\n",
       "      <td>0</td>\n",
       "      <td>7.26</td>\n",
       "      <td>1</td>\n",
       "      <td>1</td>\n",
       "      <td>20</td>\n",
       "      <td>15.00</td>\n",
       "      <td>1</td>\n",
       "      <td>766.84</td>\n",
       "      <td>0.0</td>\n",
       "      <td>0.0</td>\n",
       "      <td>...</td>\n",
       "      <td>100000.0</td>\n",
       "      <td>0.0</td>\n",
       "      <td>0.0</td>\n",
       "      <td>7.0</td>\n",
       "      <td>0.0</td>\n",
       "      <td>11.0</td>\n",
       "      <td>0.0</td>\n",
       "      <td>0.0</td>\n",
       "      <td>0.0</td>\n",
       "      <td>291998.0</td>\n",
       "    </tr>\n",
       "    <tr>\n",
       "      <th>887378</th>\n",
       "      <td>1</td>\n",
       "      <td>7.49</td>\n",
       "      <td>0</td>\n",
       "      <td>2</td>\n",
       "      <td>9</td>\n",
       "      <td>28.00</td>\n",
       "      <td>0</td>\n",
       "      <td>326.06</td>\n",
       "      <td>0.0</td>\n",
       "      <td>0.0</td>\n",
       "      <td>...</td>\n",
       "      <td>12000.0</td>\n",
       "      <td>0.0</td>\n",
       "      <td>0.0</td>\n",
       "      <td>7.0</td>\n",
       "      <td>0.0</td>\n",
       "      <td>7.0</td>\n",
       "      <td>0.0</td>\n",
       "      <td>0.0</td>\n",
       "      <td>0.0</td>\n",
       "      <td>80559.0</td>\n",
       "    </tr>\n",
       "  </tbody>\n",
       "</table>\n",
       "<p>887379 rows × 24 columns</p>\n",
       "</div>"
      ],
      "text/plain": [
       "        terms  Rate_of_intrst  verification_status  purpose  State  \\\n",
       "0           0           19.19                    1        2      9   \n",
       "1           0           10.99                    1        4     20   \n",
       "2           0            7.26                    0        2     35   \n",
       "3           0           19.72                    0        2     45   \n",
       "4           0           10.64                    2        1      4   \n",
       "...       ...             ...                  ...      ...    ...   \n",
       "887374      0            6.49                    0        1     43   \n",
       "887375      1           25.89                    2        2     34   \n",
       "887376      1           17.51                    2        4     30   \n",
       "887377      0            7.26                    1        1     20   \n",
       "887378      1            7.49                    0        2      9   \n",
       "\n",
       "        debt_income_ratio  initial_list_status  total_rec_int  \\\n",
       "0                   33.88                    0        1173.84   \n",
       "1                    3.64                    1          83.95   \n",
       "2                   18.42                    1          56.47   \n",
       "3                   14.97                    0        4858.62   \n",
       "4                   20.16                    1        2296.41   \n",
       "...                   ...                  ...            ...   \n",
       "887374              12.46                    1        1180.32   \n",
       "887375              11.78                    0        6508.41   \n",
       "887376              16.44                    0        3456.24   \n",
       "887377              15.00                    1         766.84   \n",
       "887378              28.00                    0         326.06   \n",
       "\n",
       "        total_rec_late_fee  recoveries  ...  annual_inc  delinq_2yrs  \\\n",
       "0                      0.0         0.0  ...     28700.0          0.0   \n",
       "1                      0.0         0.0  ...     65000.0          0.0   \n",
       "2                      0.0         0.0  ...     45000.0          0.0   \n",
       "3                      0.0         0.0  ...    105000.0          0.0   \n",
       "4                      0.0         0.0  ...     52000.0          0.0   \n",
       "...                    ...         ...  ...         ...          ...   \n",
       "887374                 0.0         0.0  ...     97250.0          0.0   \n",
       "887375                 0.0         0.0  ...    180000.0          2.0   \n",
       "887376                 0.0         0.0  ...     56000.0          0.0   \n",
       "887377                 0.0         0.0  ...    100000.0          0.0   \n",
       "887378                 0.0         0.0  ...     12000.0          0.0   \n",
       "\n",
       "        inq_last_6mths  numb_credit  pub_rec  total_credits  \\\n",
       "0                  1.0         14.0      1.0           28.0   \n",
       "1                  1.0          6.0      0.0           13.0   \n",
       "2                  0.0          5.0      0.0           19.0   \n",
       "3                  2.0         10.0      0.0           21.0   \n",
       "4                  0.0         11.0      0.0           27.0   \n",
       "...                ...          ...      ...            ...   \n",
       "887374             0.0         12.0      0.0           24.0   \n",
       "887375             2.0         21.0      0.0           33.0   \n",
       "887376             3.0         11.0      1.0           25.0   \n",
       "887377             0.0          7.0      0.0           11.0   \n",
       "887378             0.0          7.0      0.0            7.0   \n",
       "\n",
       "        collections_12_mths_ex_med  acc_now_delinq  tot_colle_amt  \\\n",
       "0                              0.0             0.0            0.0   \n",
       "1                              0.0             0.0            0.0   \n",
       "2                              0.0             0.0           65.0   \n",
       "3                              0.0             0.0            0.0   \n",
       "4                              0.0             0.0            0.0   \n",
       "...                            ...             ...            ...   \n",
       "887374                         0.0             0.0            0.0   \n",
       "887375                         0.0             0.0            0.0   \n",
       "887376                         0.0             0.0            0.0   \n",
       "887377                         0.0             0.0            0.0   \n",
       "887378                         0.0             0.0            0.0   \n",
       "\n",
       "        tot_curr_bal  \n",
       "0            28699.0  \n",
       "1             9974.0  \n",
       "2            38295.0  \n",
       "3            55564.0  \n",
       "4            47159.0  \n",
       "...              ...  \n",
       "887374      143920.0  \n",
       "887375      772713.0  \n",
       "887376       80559.0  \n",
       "887377      291998.0  \n",
       "887378       80559.0  \n",
       "\n",
       "[887379 rows x 24 columns]"
      ]
     },
     "execution_count": 49,
     "metadata": {},
     "output_type": "execute_result"
    }
   ],
   "source": [
    "x"
   ]
  },
  {
   "cell_type": "code",
   "execution_count": 50,
   "metadata": {},
   "outputs": [],
   "source": [
    "a=x.columns"
   ]
  },
  {
   "cell_type": "code",
   "execution_count": 51,
   "metadata": {},
   "outputs": [],
   "source": [
    "from sklearn.preprocessing import StandardScaler\n",
    "scaler = StandardScaler()\n",
    "x=scaler.fit_transform(x)"
   ]
  },
  {
   "cell_type": "code",
   "execution_count": 52,
   "metadata": {},
   "outputs": [
    {
     "data": {
      "text/plain": [
       "array([[-0.65472446,  1.35633124, -0.03458908, ..., -0.06429842,\n",
       "        -0.02100372, -0.71496666],\n",
       "       [-0.65472446, -0.51501808, -0.03458908, ..., -0.06429842,\n",
       "        -0.02100372, -0.8411535 ],\n",
       "       [-0.65472446, -1.36625381, -1.29661067, ..., -0.06429842,\n",
       "        -0.01443463, -0.6502997 ],\n",
       "       ...,\n",
       "       [ 1.52736008,  0.97293284,  1.2274325 , ..., -0.06429842,\n",
       "        -0.02100372, -0.36548471],\n",
       "       [-0.65472446, -1.36625381, -0.03458908, ..., -0.06429842,\n",
       "        -0.02100372,  1.05939215],\n",
       "       [ 1.52736008, -1.31376474, -1.29661067, ..., -0.06429842,\n",
       "        -0.02100372, -0.36548471]])"
      ]
     },
     "execution_count": 52,
     "metadata": {},
     "output_type": "execute_result"
    }
   ],
   "source": [
    "x"
   ]
  },
  {
   "cell_type": "code",
   "execution_count": 53,
   "metadata": {},
   "outputs": [],
   "source": [
    "x=pd.DataFrame(x)"
   ]
  },
  {
   "cell_type": "code",
   "execution_count": 54,
   "metadata": {},
   "outputs": [],
   "source": [
    "x.columns=a"
   ]
  },
  {
   "cell_type": "code",
   "execution_count": 55,
   "metadata": {},
   "outputs": [
    {
     "data": {
      "text/html": [
       "<div>\n",
       "<style scoped>\n",
       "    .dataframe tbody tr th:only-of-type {\n",
       "        vertical-align: middle;\n",
       "    }\n",
       "\n",
       "    .dataframe tbody tr th {\n",
       "        vertical-align: top;\n",
       "    }\n",
       "\n",
       "    .dataframe thead th {\n",
       "        text-align: right;\n",
       "    }\n",
       "</style>\n",
       "<table border=\"1\" class=\"dataframe\">\n",
       "  <thead>\n",
       "    <tr style=\"text-align: right;\">\n",
       "      <th></th>\n",
       "      <th>terms</th>\n",
       "      <th>Rate_of_intrst</th>\n",
       "      <th>verification_status</th>\n",
       "      <th>purpose</th>\n",
       "      <th>State</th>\n",
       "      <th>debt_income_ratio</th>\n",
       "      <th>initial_list_status</th>\n",
       "      <th>total_rec_int</th>\n",
       "      <th>total_rec_late_fee</th>\n",
       "      <th>recoveries</th>\n",
       "      <th>...</th>\n",
       "      <th>annual_inc</th>\n",
       "      <th>delinq_2yrs</th>\n",
       "      <th>inq_last_6mths</th>\n",
       "      <th>numb_credit</th>\n",
       "      <th>pub_rec</th>\n",
       "      <th>total_credits</th>\n",
       "      <th>collections_12_mths_ex_med</th>\n",
       "      <th>acc_now_delinq</th>\n",
       "      <th>tot_colle_amt</th>\n",
       "      <th>tot_curr_bal</th>\n",
       "    </tr>\n",
       "  </thead>\n",
       "  <tbody>\n",
       "    <tr>\n",
       "      <th>0</th>\n",
       "      <td>-0.654724</td>\n",
       "      <td>1.356331</td>\n",
       "      <td>-0.034589</td>\n",
       "      <td>-0.250552</td>\n",
       "      <td>-0.933221</td>\n",
       "      <td>0.914625</td>\n",
       "      <td>-0.97077</td>\n",
       "      <td>-0.277263</td>\n",
       "      <td>-0.097042</td>\n",
       "      <td>-0.112082</td>\n",
       "      <td>...</td>\n",
       "      <td>-0.716057</td>\n",
       "      <td>-0.364672</td>\n",
       "      <td>0.305877</td>\n",
       "      <td>0.461058</td>\n",
       "      <td>1.382450</td>\n",
       "      <td>0.230737</td>\n",
       "      <td>-0.107149</td>\n",
       "      <td>-0.064298</td>\n",
       "      <td>-0.021004</td>\n",
       "      <td>-0.714967</td>\n",
       "    </tr>\n",
       "    <tr>\n",
       "      <th>1</th>\n",
       "      <td>-0.654724</td>\n",
       "      <td>-0.515018</td>\n",
       "      <td>-0.034589</td>\n",
       "      <td>0.626483</td>\n",
       "      <td>-0.207249</td>\n",
       "      <td>-0.844475</td>\n",
       "      <td>1.03011</td>\n",
       "      <td>-0.797409</td>\n",
       "      <td>-0.097042</td>\n",
       "      <td>-0.112082</td>\n",
       "      <td>...</td>\n",
       "      <td>-0.154990</td>\n",
       "      <td>-0.364672</td>\n",
       "      <td>0.305877</td>\n",
       "      <td>-1.043486</td>\n",
       "      <td>-0.335522</td>\n",
       "      <td>-1.036116</td>\n",
       "      <td>-0.107149</td>\n",
       "      <td>-0.064298</td>\n",
       "      <td>-0.021004</td>\n",
       "      <td>-0.841154</td>\n",
       "    </tr>\n",
       "    <tr>\n",
       "      <th>2</th>\n",
       "      <td>-0.654724</td>\n",
       "      <td>-1.366254</td>\n",
       "      <td>-1.296611</td>\n",
       "      <td>-0.250552</td>\n",
       "      <td>0.782712</td>\n",
       "      <td>0.015297</td>\n",
       "      <td>1.03011</td>\n",
       "      <td>-0.810523</td>\n",
       "      <td>-0.097042</td>\n",
       "      <td>-0.112082</td>\n",
       "      <td>...</td>\n",
       "      <td>-0.464118</td>\n",
       "      <td>-0.364672</td>\n",
       "      <td>-0.695687</td>\n",
       "      <td>-1.231554</td>\n",
       "      <td>-0.335522</td>\n",
       "      <td>-0.529374</td>\n",
       "      <td>-0.107149</td>\n",
       "      <td>-0.064298</td>\n",
       "      <td>-0.014435</td>\n",
       "      <td>-0.650300</td>\n",
       "    </tr>\n",
       "    <tr>\n",
       "      <th>3</th>\n",
       "      <td>-0.654724</td>\n",
       "      <td>1.477284</td>\n",
       "      <td>-1.296611</td>\n",
       "      <td>-0.250552</td>\n",
       "      <td>1.442686</td>\n",
       "      <td>-0.185394</td>\n",
       "      <td>-0.97077</td>\n",
       "      <td>1.481284</td>\n",
       "      <td>-0.097042</td>\n",
       "      <td>-0.112082</td>\n",
       "      <td>...</td>\n",
       "      <td>0.463266</td>\n",
       "      <td>-0.364672</td>\n",
       "      <td>1.307441</td>\n",
       "      <td>-0.291214</td>\n",
       "      <td>-0.335522</td>\n",
       "      <td>-0.360461</td>\n",
       "      <td>-0.107149</td>\n",
       "      <td>-0.064298</td>\n",
       "      <td>-0.021004</td>\n",
       "      <td>-0.533925</td>\n",
       "    </tr>\n",
       "    <tr>\n",
       "      <th>4</th>\n",
       "      <td>-0.654724</td>\n",
       "      <td>-0.594893</td>\n",
       "      <td>1.227433</td>\n",
       "      <td>-0.689069</td>\n",
       "      <td>-1.263208</td>\n",
       "      <td>0.116515</td>\n",
       "      <td>1.03011</td>\n",
       "      <td>0.258479</td>\n",
       "      <td>-0.097042</td>\n",
       "      <td>-0.112082</td>\n",
       "      <td>...</td>\n",
       "      <td>-0.355923</td>\n",
       "      <td>-0.364672</td>\n",
       "      <td>-0.695687</td>\n",
       "      <td>-0.103146</td>\n",
       "      <td>-0.335522</td>\n",
       "      <td>0.146281</td>\n",
       "      <td>-0.107149</td>\n",
       "      <td>-0.064298</td>\n",
       "      <td>-0.021004</td>\n",
       "      <td>-0.590566</td>\n",
       "    </tr>\n",
       "    <tr>\n",
       "      <th>...</th>\n",
       "      <td>...</td>\n",
       "      <td>...</td>\n",
       "      <td>...</td>\n",
       "      <td>...</td>\n",
       "      <td>...</td>\n",
       "      <td>...</td>\n",
       "      <td>...</td>\n",
       "      <td>...</td>\n",
       "      <td>...</td>\n",
       "      <td>...</td>\n",
       "      <td>...</td>\n",
       "      <td>...</td>\n",
       "      <td>...</td>\n",
       "      <td>...</td>\n",
       "      <td>...</td>\n",
       "      <td>...</td>\n",
       "      <td>...</td>\n",
       "      <td>...</td>\n",
       "      <td>...</td>\n",
       "      <td>...</td>\n",
       "      <td>...</td>\n",
       "    </tr>\n",
       "    <tr>\n",
       "      <th>887374</th>\n",
       "      <td>-0.654724</td>\n",
       "      <td>-1.541978</td>\n",
       "      <td>-1.296611</td>\n",
       "      <td>-0.689069</td>\n",
       "      <td>1.310691</td>\n",
       "      <td>-0.331404</td>\n",
       "      <td>1.03011</td>\n",
       "      <td>-0.274170</td>\n",
       "      <td>-0.097042</td>\n",
       "      <td>-0.112082</td>\n",
       "      <td>...</td>\n",
       "      <td>0.343479</td>\n",
       "      <td>-0.364672</td>\n",
       "      <td>-0.695687</td>\n",
       "      <td>0.084922</td>\n",
       "      <td>-0.335522</td>\n",
       "      <td>-0.107090</td>\n",
       "      <td>-0.107149</td>\n",
       "      <td>-0.064298</td>\n",
       "      <td>-0.021004</td>\n",
       "      <td>0.061502</td>\n",
       "    </tr>\n",
       "    <tr>\n",
       "      <th>887375</th>\n",
       "      <td>1.527360</td>\n",
       "      <td>2.885361</td>\n",
       "      <td>1.227433</td>\n",
       "      <td>-0.250552</td>\n",
       "      <td>0.716715</td>\n",
       "      <td>-0.370960</td>\n",
       "      <td>-0.97077</td>\n",
       "      <td>2.268640</td>\n",
       "      <td>-0.097042</td>\n",
       "      <td>-0.112082</td>\n",
       "      <td>...</td>\n",
       "      <td>1.622496</td>\n",
       "      <td>1.954892</td>\n",
       "      <td>1.307441</td>\n",
       "      <td>1.777534</td>\n",
       "      <td>-0.335522</td>\n",
       "      <td>0.653022</td>\n",
       "      <td>-0.107149</td>\n",
       "      <td>-0.064298</td>\n",
       "      <td>-0.021004</td>\n",
       "      <td>4.298907</td>\n",
       "    </tr>\n",
       "    <tr>\n",
       "      <th>887376</th>\n",
       "      <td>1.527360</td>\n",
       "      <td>0.972933</td>\n",
       "      <td>1.227433</td>\n",
       "      <td>0.626483</td>\n",
       "      <td>0.452725</td>\n",
       "      <td>-0.099882</td>\n",
       "      <td>-0.97077</td>\n",
       "      <td>0.812004</td>\n",
       "      <td>-0.097042</td>\n",
       "      <td>-0.112082</td>\n",
       "      <td>...</td>\n",
       "      <td>-0.294097</td>\n",
       "      <td>-0.364672</td>\n",
       "      <td>2.309004</td>\n",
       "      <td>-0.103146</td>\n",
       "      <td>1.382450</td>\n",
       "      <td>-0.022633</td>\n",
       "      <td>-0.107149</td>\n",
       "      <td>-0.064298</td>\n",
       "      <td>-0.021004</td>\n",
       "      <td>-0.365485</td>\n",
       "    </tr>\n",
       "    <tr>\n",
       "      <th>887377</th>\n",
       "      <td>-0.654724</td>\n",
       "      <td>-1.366254</td>\n",
       "      <td>-0.034589</td>\n",
       "      <td>-0.689069</td>\n",
       "      <td>-0.207249</td>\n",
       "      <td>-0.183649</td>\n",
       "      <td>1.03011</td>\n",
       "      <td>-0.471502</td>\n",
       "      <td>-0.097042</td>\n",
       "      <td>-0.112082</td>\n",
       "      <td>...</td>\n",
       "      <td>0.385984</td>\n",
       "      <td>-0.364672</td>\n",
       "      <td>-0.695687</td>\n",
       "      <td>-0.855418</td>\n",
       "      <td>-0.335522</td>\n",
       "      <td>-1.205029</td>\n",
       "      <td>-0.107149</td>\n",
       "      <td>-0.064298</td>\n",
       "      <td>-0.021004</td>\n",
       "      <td>1.059392</td>\n",
       "    </tr>\n",
       "    <tr>\n",
       "      <th>887378</th>\n",
       "      <td>1.527360</td>\n",
       "      <td>-1.313765</td>\n",
       "      <td>-1.296611</td>\n",
       "      <td>-0.250552</td>\n",
       "      <td>-0.933221</td>\n",
       "      <td>0.572578</td>\n",
       "      <td>-0.97077</td>\n",
       "      <td>-0.681863</td>\n",
       "      <td>-0.097042</td>\n",
       "      <td>-0.112082</td>\n",
       "      <td>...</td>\n",
       "      <td>-0.974179</td>\n",
       "      <td>-0.364672</td>\n",
       "      <td>-0.695687</td>\n",
       "      <td>-0.855418</td>\n",
       "      <td>-0.335522</td>\n",
       "      <td>-1.542857</td>\n",
       "      <td>-0.107149</td>\n",
       "      <td>-0.064298</td>\n",
       "      <td>-0.021004</td>\n",
       "      <td>-0.365485</td>\n",
       "    </tr>\n",
       "  </tbody>\n",
       "</table>\n",
       "<p>887379 rows × 24 columns</p>\n",
       "</div>"
      ],
      "text/plain": [
       "           terms  Rate_of_intrst  verification_status   purpose     State  \\\n",
       "0      -0.654724        1.356331            -0.034589 -0.250552 -0.933221   \n",
       "1      -0.654724       -0.515018            -0.034589  0.626483 -0.207249   \n",
       "2      -0.654724       -1.366254            -1.296611 -0.250552  0.782712   \n",
       "3      -0.654724        1.477284            -1.296611 -0.250552  1.442686   \n",
       "4      -0.654724       -0.594893             1.227433 -0.689069 -1.263208   \n",
       "...          ...             ...                  ...       ...       ...   \n",
       "887374 -0.654724       -1.541978            -1.296611 -0.689069  1.310691   \n",
       "887375  1.527360        2.885361             1.227433 -0.250552  0.716715   \n",
       "887376  1.527360        0.972933             1.227433  0.626483  0.452725   \n",
       "887377 -0.654724       -1.366254            -0.034589 -0.689069 -0.207249   \n",
       "887378  1.527360       -1.313765            -1.296611 -0.250552 -0.933221   \n",
       "\n",
       "        debt_income_ratio  initial_list_status  total_rec_int  \\\n",
       "0                0.914625             -0.97077      -0.277263   \n",
       "1               -0.844475              1.03011      -0.797409   \n",
       "2                0.015297              1.03011      -0.810523   \n",
       "3               -0.185394             -0.97077       1.481284   \n",
       "4                0.116515              1.03011       0.258479   \n",
       "...                   ...                  ...            ...   \n",
       "887374          -0.331404              1.03011      -0.274170   \n",
       "887375          -0.370960             -0.97077       2.268640   \n",
       "887376          -0.099882             -0.97077       0.812004   \n",
       "887377          -0.183649              1.03011      -0.471502   \n",
       "887378           0.572578             -0.97077      -0.681863   \n",
       "\n",
       "        total_rec_late_fee  recoveries  ...  annual_inc  delinq_2yrs  \\\n",
       "0                -0.097042   -0.112082  ...   -0.716057    -0.364672   \n",
       "1                -0.097042   -0.112082  ...   -0.154990    -0.364672   \n",
       "2                -0.097042   -0.112082  ...   -0.464118    -0.364672   \n",
       "3                -0.097042   -0.112082  ...    0.463266    -0.364672   \n",
       "4                -0.097042   -0.112082  ...   -0.355923    -0.364672   \n",
       "...                    ...         ...  ...         ...          ...   \n",
       "887374           -0.097042   -0.112082  ...    0.343479    -0.364672   \n",
       "887375           -0.097042   -0.112082  ...    1.622496     1.954892   \n",
       "887376           -0.097042   -0.112082  ...   -0.294097    -0.364672   \n",
       "887377           -0.097042   -0.112082  ...    0.385984    -0.364672   \n",
       "887378           -0.097042   -0.112082  ...   -0.974179    -0.364672   \n",
       "\n",
       "        inq_last_6mths  numb_credit   pub_rec  total_credits  \\\n",
       "0             0.305877     0.461058  1.382450       0.230737   \n",
       "1             0.305877    -1.043486 -0.335522      -1.036116   \n",
       "2            -0.695687    -1.231554 -0.335522      -0.529374   \n",
       "3             1.307441    -0.291214 -0.335522      -0.360461   \n",
       "4            -0.695687    -0.103146 -0.335522       0.146281   \n",
       "...                ...          ...       ...            ...   \n",
       "887374       -0.695687     0.084922 -0.335522      -0.107090   \n",
       "887375        1.307441     1.777534 -0.335522       0.653022   \n",
       "887376        2.309004    -0.103146  1.382450      -0.022633   \n",
       "887377       -0.695687    -0.855418 -0.335522      -1.205029   \n",
       "887378       -0.695687    -0.855418 -0.335522      -1.542857   \n",
       "\n",
       "        collections_12_mths_ex_med  acc_now_delinq  tot_colle_amt  \\\n",
       "0                        -0.107149       -0.064298      -0.021004   \n",
       "1                        -0.107149       -0.064298      -0.021004   \n",
       "2                        -0.107149       -0.064298      -0.014435   \n",
       "3                        -0.107149       -0.064298      -0.021004   \n",
       "4                        -0.107149       -0.064298      -0.021004   \n",
       "...                            ...             ...            ...   \n",
       "887374                   -0.107149       -0.064298      -0.021004   \n",
       "887375                   -0.107149       -0.064298      -0.021004   \n",
       "887376                   -0.107149       -0.064298      -0.021004   \n",
       "887377                   -0.107149       -0.064298      -0.021004   \n",
       "887378                   -0.107149       -0.064298      -0.021004   \n",
       "\n",
       "        tot_curr_bal  \n",
       "0          -0.714967  \n",
       "1          -0.841154  \n",
       "2          -0.650300  \n",
       "3          -0.533925  \n",
       "4          -0.590566  \n",
       "...              ...  \n",
       "887374      0.061502  \n",
       "887375      4.298907  \n",
       "887376     -0.365485  \n",
       "887377      1.059392  \n",
       "887378     -0.365485  \n",
       "\n",
       "[887379 rows x 24 columns]"
      ]
     },
     "execution_count": 55,
     "metadata": {},
     "output_type": "execute_result"
    }
   ],
   "source": [
    "x"
   ]
  },
  {
   "cell_type": "code",
   "execution_count": 56,
   "metadata": {
    "scrolled": true
   },
   "outputs": [
    {
     "data": {
      "text/html": [
       "<div>\n",
       "<style scoped>\n",
       "    .dataframe tbody tr th:only-of-type {\n",
       "        vertical-align: middle;\n",
       "    }\n",
       "\n",
       "    .dataframe tbody tr th {\n",
       "        vertical-align: top;\n",
       "    }\n",
       "\n",
       "    .dataframe thead th {\n",
       "        text-align: right;\n",
       "    }\n",
       "</style>\n",
       "<table border=\"1\" class=\"dataframe\">\n",
       "  <thead>\n",
       "    <tr style=\"text-align: right;\">\n",
       "      <th></th>\n",
       "      <th>total revol_bal</th>\n",
       "    </tr>\n",
       "  </thead>\n",
       "  <tbody>\n",
       "    <tr>\n",
       "      <th>0</th>\n",
       "      <td>22515.0</td>\n",
       "    </tr>\n",
       "    <tr>\n",
       "      <th>1</th>\n",
       "      <td>7624.0</td>\n",
       "    </tr>\n",
       "    <tr>\n",
       "      <th>2</th>\n",
       "      <td>10877.0</td>\n",
       "    </tr>\n",
       "    <tr>\n",
       "      <th>3</th>\n",
       "      <td>13712.0</td>\n",
       "    </tr>\n",
       "    <tr>\n",
       "      <th>4</th>\n",
       "      <td>35835.0</td>\n",
       "    </tr>\n",
       "    <tr>\n",
       "      <th>...</th>\n",
       "      <td>...</td>\n",
       "    </tr>\n",
       "    <tr>\n",
       "      <th>887374</th>\n",
       "      <td>12201.0</td>\n",
       "    </tr>\n",
       "    <tr>\n",
       "      <th>887375</th>\n",
       "      <td>52584.0</td>\n",
       "    </tr>\n",
       "    <tr>\n",
       "      <th>887376</th>\n",
       "      <td>10948.0</td>\n",
       "    </tr>\n",
       "    <tr>\n",
       "      <th>887377</th>\n",
       "      <td>33599.0</td>\n",
       "    </tr>\n",
       "    <tr>\n",
       "      <th>887378</th>\n",
       "      <td>5118.0</td>\n",
       "    </tr>\n",
       "  </tbody>\n",
       "</table>\n",
       "<p>887379 rows × 1 columns</p>\n",
       "</div>"
      ],
      "text/plain": [
       "        total revol_bal\n",
       "0               22515.0\n",
       "1                7624.0\n",
       "2               10877.0\n",
       "3               13712.0\n",
       "4               35835.0\n",
       "...                 ...\n",
       "887374          12201.0\n",
       "887375          52584.0\n",
       "887376          10948.0\n",
       "887377          33599.0\n",
       "887378           5118.0\n",
       "\n",
       "[887379 rows x 1 columns]"
      ]
     },
     "execution_count": 56,
     "metadata": {},
     "output_type": "execute_result"
    }
   ],
   "source": [
    "# Feature Extraction\n",
    "y"
   ]
  },
  {
   "cell_type": "code",
   "execution_count": 57,
   "metadata": {},
   "outputs": [],
   "source": [
    "from sklearn.model_selection import RepeatedKFold "
   ]
  },
  {
   "cell_type": "code",
   "execution_count": 58,
   "metadata": {},
   "outputs": [
    {
     "name": "stdout",
     "output_type": "stream",
     "text": [
      "Train: [     0      4      6 ... 887374 887376 887377] Validation: [     1      2      3 ... 887367 887375 887378]\n",
      "Train: [     0      1      2 ... 887376 887377 887378] Validation: [     4     13     14 ... 887368 887370 887371]\n",
      "Train: [     0      1      2 ... 887375 887377 887378] Validation: [     7     10     20 ... 887355 887361 887376]\n",
      "Train: [     1      2      3 ... 887376 887377 887378] Validation: [     0      6      8 ... 887369 887373 887374]\n",
      "Train: [     0      1      2 ... 887375 887376 887378] Validation: [    17     25     29 ... 887362 887372 887377]\n",
      "Train: [     0      1      2 ... 887375 887377 887378] Validation: [     4     26     30 ... 887370 887372 887376]\n",
      "Train: [     3      4      5 ... 887376 887377 887378] Validation: [     0      1      2 ... 887350 887361 887362]\n",
      "Train: [     0      1      2 ... 887376 887377 887378] Validation: [     6      7      8 ... 887373 887374 887375]\n",
      "Train: [     0      1      2 ... 887374 887375 887376] Validation: [    10     12     15 ... 887364 887377 887378]\n",
      "Train: [     0      1      2 ... 887376 887377 887378] Validation: [     3      5      9 ... 887354 887363 887368]\n",
      "Train: [     0      1      2 ... 887375 887376 887378] Validation: [     5      9     14 ... 887373 887374 887377]\n",
      "Train: [     0      1      3 ... 887376 887377 887378] Validation: [     2      4      6 ... 887364 887371 887375]\n",
      "Train: [     0      2      3 ... 887376 887377 887378] Validation: [     1     16     18 ... 887367 887368 887370]\n",
      "Train: [     0      1      2 ... 887374 887375 887377] Validation: [     7      8     11 ... 887365 887376 887378]\n",
      "Train: [     1      2      4 ... 887376 887377 887378] Validation: [     0      3     12 ... 887355 887360 887366]\n",
      "Train: [     0      1      2 ... 887375 887377 887378] Validation: [     3      5      7 ... 887365 887367 887376]\n",
      "Train: [     0      3      4 ... 887376 887377 887378] Validation: [     1      2     10 ... 887363 887364 887368]\n",
      "Train: [     0      1      2 ... 887376 887377 887378] Validation: [    12     19     29 ... 887370 887372 887374]\n",
      "Train: [     1      2      3 ... 887374 887376 887377] Validation: [     0      4      8 ... 887373 887375 887378]\n",
      "Train: [     0      1      2 ... 887375 887376 887378] Validation: [     6      9     17 ... 887366 887371 887377]\n",
      "Train: [     0      1      2 ... 887375 887377 887378] Validation: [     3     12     15 ... 887358 887364 887376]\n",
      "Train: [     1      2      3 ... 887376 887377 887378] Validation: [     0      6      7 ... 887367 887372 887375]\n",
      "Train: [     0      1      2 ... 887375 887376 887377] Validation: [    14     20     24 ... 887361 887362 887378]\n",
      "Train: [     0      1      2 ... 887375 887376 887378] Validation: [     4      8     22 ... 887370 887371 887377]\n",
      "Train: [     0      3      4 ... 887376 887377 887378] Validation: [     1      2      5 ... 887369 887373 887374]\n",
      "Train: [     0      1      2 ... 887375 887376 887378] Validation: [     9     11     26 ... 887363 887371 887377]\n",
      "Train: [     1      2      4 ... 887375 887376 887377] Validation: [     0      3      8 ... 887367 887370 887378]\n",
      "Train: [     0      1      3 ... 887376 887377 887378] Validation: [     2      4      6 ... 887364 887373 887375]\n",
      "Train: [     0      1      2 ... 887376 887377 887378] Validation: [    18     24     29 ... 887354 887362 887368]\n",
      "Train: [     0      2      3 ... 887375 887377 887378] Validation: [     1      5      7 ... 887372 887374 887376]\n",
      "Train: [     0      1      3 ... 887376 887377 887378] Validation: [     2     21     26 ... 887367 887373 887374]\n",
      "Train: [     0      1      2 ... 887376 887377 887378] Validation: [     3     12     14 ... 887358 887365 887366]\n",
      "Train: [     2      3      7 ... 887374 887375 887376] Validation: [     0      1      4 ... 887364 887377 887378]\n",
      "Train: [     0      1      2 ... 887375 887377 887378] Validation: [     7      9     33 ... 887371 887372 887376]\n",
      "Train: [     0      1      2 ... 887376 887377 887378] Validation: [     8     10     11 ... 887368 887370 887375]\n",
      "Train: [     0      1      3 ... 887376 887377 887378] Validation: [     2      6      7 ... 887367 887370 887375]\n",
      "Train: [     1      2      3 ... 887375 887376 887378] Validation: [     0     18     24 ... 887354 887355 887377]\n",
      "Train: [     0      1      2 ... 887376 887377 887378] Validation: [     3     10     11 ... 887366 887368 887369]\n",
      "Train: [     0      1      2 ... 887375 887376 887377] Validation: [     4      5      9 ... 887371 887374 887378]\n",
      "Train: [     0      2      3 ... 887375 887377 887378] Validation: [     1     13     15 ... 887372 887373 887376]\n",
      "Train: [     0      1      2 ... 887375 887376 887378] Validation: [     3     18     19 ... 887372 887373 887377]\n",
      "Train: [     0      1      2 ... 887376 887377 887378] Validation: [     4      5     16 ... 887357 887358 887364]\n",
      "Train: [     1      3      4 ... 887375 887376 887377] Validation: [     0      2      7 ... 887368 887369 887378]\n",
      "Train: [     0      1      2 ... 887376 887377 887378] Validation: [     8     12     13 ... 887345 887371 887374]\n",
      "Train: [     0      2      3 ... 887374 887377 887378] Validation: [     1      6      9 ... 887370 887375 887376]\n",
      "Train: [     0      1      2 ... 887376 887377 887378] Validation: [     3     10     11 ... 887364 887369 887375]\n",
      "Train: [     0      1      2 ... 887376 887377 887378] Validation: [     7      8     12 ... 887361 887366 887374]\n",
      "Train: [     1      2      3 ... 887376 887377 887378] Validation: [     0      5      6 ... 887357 887360 887370]\n",
      "Train: [     0      1      2 ... 887375 887377 887378] Validation: [     4      9     16 ... 887359 887363 887376]\n",
      "Train: [     0      3      4 ... 887374 887375 887376] Validation: [     1      2     18 ... 887373 887377 887378]\n"
     ]
    }
   ],
   "source": [
    "\n",
    "kf = RepeatedKFold(n_splits=5, n_repeats=10, random_state=None) \n",
    "\n",
    "for train_index, test_index in kf.split(x):\n",
    "    print(\"Train:\", train_index, \"Validation:\",test_index)\n",
    "    x_train, x_test = x.iloc[train_index], x.iloc[test_index]\n",
    "    y_train, y_test = y.iloc[train_index], y.iloc[test_index]"
   ]
  },
  {
   "cell_type": "code",
   "execution_count": 59,
   "metadata": {},
   "outputs": [],
   "source": [
    "from sklearn.linear_model import LinearRegression"
   ]
  },
  {
   "cell_type": "code",
   "execution_count": 60,
   "metadata": {},
   "outputs": [],
   "source": [
    "ln=LinearRegression()"
   ]
  },
  {
   "cell_type": "code",
   "execution_count": 61,
   "metadata": {},
   "outputs": [],
   "source": [
    "lnfit=ln.fit(x_train,y_train)"
   ]
  },
  {
   "cell_type": "code",
   "execution_count": 62,
   "metadata": {},
   "outputs": [],
   "source": [
    "ypred=lnfit.predict(x_test)"
   ]
  },
  {
   "cell_type": "code",
   "execution_count": 68,
   "metadata": {},
   "outputs": [
    {
     "data": {
      "text/plain": [
       "0.2421497882511232"
      ]
     },
     "execution_count": 68,
     "metadata": {},
     "output_type": "execute_result"
    }
   ],
   "source": [
    "lnfit.score(x_train,y_train)  #0.2421497882511232"
   ]
  },
  {
   "cell_type": "code",
   "execution_count": 69,
   "metadata": {},
   "outputs": [
    {
     "data": {
      "text/plain": [
       "0.24260182401878627"
      ]
     },
     "execution_count": 69,
     "metadata": {},
     "output_type": "execute_result"
    }
   ],
   "source": [
    "lnfit.score(x_test,y_test) #0.24260182401878627"
   ]
  },
  {
   "cell_type": "code",
   "execution_count": 64,
   "metadata": {},
   "outputs": [
    {
     "data": {
      "text/plain": [
       "0.24260182401878627"
      ]
     },
     "execution_count": 64,
     "metadata": {},
     "output_type": "execute_result"
    }
   ],
   "source": [
    "from sklearn.metrics import r2_score\n",
    "r2_score(y_test, ypred)   #0.24260182401878627"
   ]
  },
  {
   "cell_type": "code",
   "execution_count": 65,
   "metadata": {},
   "outputs": [],
   "source": [
    "from sklearn.metrics import mean_squared_error\n",
    "from math import sqrt"
   ]
  },
  {
   "cell_type": "code",
   "execution_count": 66,
   "metadata": {},
   "outputs": [],
   "source": [
    "rms = sqrt(mean_squared_error(y_test, ypred))"
   ]
  },
  {
   "cell_type": "code",
   "execution_count": 67,
   "metadata": {},
   "outputs": [
    {
     "data": {
      "text/plain": [
       "19693.431449753723"
      ]
     },
     "execution_count": 67,
     "metadata": {},
     "output_type": "execute_result"
    }
   ],
   "source": [
    "rms   #19693.431449753723"
   ]
  },
  {
   "cell_type": "code",
   "execution_count": 70,
   "metadata": {},
   "outputs": [
    {
     "data": {
      "text/plain": [
       "-0.25400879405351673"
      ]
     },
     "execution_count": 70,
     "metadata": {},
     "output_type": "execute_result"
    }
   ],
   "source": [
    "from sklearn import tree\n",
    "clf = tree.DecisionTreeRegressor()\n",
    "clf = clf.fit(x_train, y_train)\n",
    "clf_pred=clf.predict(x_test)\n",
    "r2_score(y_test,clf_pred)   #-0.25400879405351673"
   ]
  },
  {
   "cell_type": "code",
   "execution_count": 71,
   "metadata": {},
   "outputs": [
    {
     "data": {
      "text/plain": [
       "1.0"
      ]
     },
     "execution_count": 71,
     "metadata": {},
     "output_type": "execute_result"
    }
   ],
   "source": [
    "clf.score(x_train,y_train)  #-0.25400879405351673"
   ]
  },
  {
   "cell_type": "code",
   "execution_count": 72,
   "metadata": {},
   "outputs": [
    {
     "data": {
      "text/plain": [
       "-0.25400879405351673"
      ]
     },
     "execution_count": 72,
     "metadata": {},
     "output_type": "execute_result"
    }
   ],
   "source": [
    "clf.score(x_test,y_test)  #-0.25400879405351673"
   ]
  },
  {
   "cell_type": "code",
   "execution_count": 73,
   "metadata": {},
   "outputs": [],
   "source": [
    "rms = sqrt(mean_squared_error(y_test, clf_pred))"
   ]
  },
  {
   "cell_type": "code",
   "execution_count": 74,
   "metadata": {},
   "outputs": [
    {
     "data": {
      "text/plain": [
       "25340.17205130512"
      ]
     },
     "execution_count": 74,
     "metadata": {},
     "output_type": "execute_result"
    }
   ],
   "source": [
    "rms  #25340.17205130512"
   ]
  },
  {
   "cell_type": "code",
   "execution_count": 75,
   "metadata": {},
   "outputs": [],
   "source": [
    "from sklearn.linear_model import Ridge\n",
    "rr = Ridge(alpha=100) \n",
    "rr.fit(x_train, y_train)\n",
    "rr_pred=rr.predict(x_test)\n",
    "Ridge_train_score = rr.score(x_train,y_train)\n",
    "Ridge_test_score = rr.score(x_test, y_test)"
   ]
  },
  {
   "cell_type": "code",
   "execution_count": 76,
   "metadata": {},
   "outputs": [
    {
     "data": {
      "text/plain": [
       "0.24214978434765289"
      ]
     },
     "execution_count": 76,
     "metadata": {},
     "output_type": "execute_result"
    }
   ],
   "source": [
    "rr.score(x_train,y_train)  #0.24214978434765289"
   ]
  },
  {
   "cell_type": "code",
   "execution_count": 77,
   "metadata": {},
   "outputs": [
    {
     "data": {
      "text/plain": [
       "0.24260035998329676"
      ]
     },
     "execution_count": 77,
     "metadata": {},
     "output_type": "execute_result"
    }
   ],
   "source": [
    "rr.score(x_test,y_test) #0.24260035998329676"
   ]
  },
  {
   "cell_type": "code",
   "execution_count": 78,
   "metadata": {},
   "outputs": [
    {
     "data": {
      "text/plain": [
       "0.24260035998329676"
      ]
     },
     "execution_count": 78,
     "metadata": {},
     "output_type": "execute_result"
    }
   ],
   "source": [
    "r2_score(y_test,rr_pred)   #0.24260035998329676"
   ]
  },
  {
   "cell_type": "code",
   "execution_count": 79,
   "metadata": {},
   "outputs": [],
   "source": [
    "rms = sqrt(mean_squared_error(y_test,rr_pred))"
   ]
  },
  {
   "cell_type": "code",
   "execution_count": 80,
   "metadata": {},
   "outputs": [
    {
     "data": {
      "text/plain": [
       "19693.450483248613"
      ]
     },
     "execution_count": 80,
     "metadata": {},
     "output_type": "execute_result"
    }
   ],
   "source": [
    "rms   #19693.450483248613"
   ]
  },
  {
   "cell_type": "code",
   "execution_count": 81,
   "metadata": {},
   "outputs": [
    {
     "name": "stderr",
     "output_type": "stream",
     "text": [
      "C:\\Users\\pavan\\anaconda3\\lib\\site-packages\\ipykernel_launcher.py:3: DataConversionWarning: A column-vector y was passed when a 1d array was expected. Please change the shape of y to (n_samples,), for example using ravel().\n",
      "  This is separate from the ipykernel package so we can avoid doing imports until\n"
     ]
    },
    {
     "data": {
      "text/plain": [
       "0.39358768978850067"
      ]
     },
     "execution_count": 81,
     "metadata": {},
     "output_type": "execute_result"
    }
   ],
   "source": [
    "from sklearn.ensemble import RandomForestRegressor\n",
    "model = RandomForestRegressor()\n",
    "model.fit(x_train, y_train)\n",
    "Random_r=model.predict(x_test)\n",
    "r2_score(y_test,Random_r)   "
   ]
  },
  {
   "cell_type": "code",
   "execution_count": 82,
   "metadata": {},
   "outputs": [
    {
     "data": {
      "text/plain": [
       "0.9081972462401092"
      ]
     },
     "execution_count": 82,
     "metadata": {},
     "output_type": "execute_result"
    }
   ],
   "source": [
    "model.score(x_train,y_train) #0.9081972462401092"
   ]
  },
  {
   "cell_type": "code",
   "execution_count": 83,
   "metadata": {},
   "outputs": [
    {
     "data": {
      "text/plain": [
       "0.3935876897885006"
      ]
     },
     "execution_count": 83,
     "metadata": {},
     "output_type": "execute_result"
    }
   ],
   "source": [
    "model.score(x_test,y_test) #0.3935876897885006"
   ]
  },
  {
   "cell_type": "code",
   "execution_count": 84,
   "metadata": {},
   "outputs": [],
   "source": [
    "rms = sqrt(mean_squared_error(y_test,Random_r)) "
   ]
  },
  {
   "cell_type": "code",
   "execution_count": 85,
   "metadata": {},
   "outputs": [
    {
     "data": {
      "text/plain": [
       "17621.51616738632"
      ]
     },
     "execution_count": 85,
     "metadata": {},
     "output_type": "execute_result"
    }
   ],
   "source": [
    "rms  #17621.51616738632"
   ]
  },
  {
   "cell_type": "code",
   "execution_count": 86,
   "metadata": {},
   "outputs": [
    {
     "name": "stderr",
     "output_type": "stream",
     "text": [
      "C:\\Users\\pavan\\anaconda3\\lib\\site-packages\\sklearn\\linear_model\\_coordinate_descent.py:1088: DataConversionWarning: A column-vector y was passed when a 1d array was expected. Please change the shape of y to (n_samples, ), for example using ravel().\n",
      "  y = column_or_1d(y, warn=True)\n"
     ]
    },
    {
     "data": {
      "text/plain": [
       "0.2417887286617949"
      ]
     },
     "execution_count": 86,
     "metadata": {},
     "output_type": "execute_result"
    }
   ],
   "source": [
    "from sklearn.linear_model import LassoCV\n",
    "model = LassoCV()\n",
    "model.fit(x_train, y_train)\n",
    "model.score(x_train,y_train)\n",
    "model.score(x_test,y_test)\n",
    "L_r=model.predict(x_test)\n",
    "r2_score(y_test,L_r) "
   ]
  },
  {
   "cell_type": "code",
   "execution_count": 87,
   "metadata": {},
   "outputs": [
    {
     "data": {
      "text/plain": [
       "0.24181567562182493"
      ]
     },
     "execution_count": 87,
     "metadata": {},
     "output_type": "execute_result"
    }
   ],
   "source": [
    "model.score(x_train,y_train)  #0.24181567562182493"
   ]
  },
  {
   "cell_type": "code",
   "execution_count": 88,
   "metadata": {},
   "outputs": [
    {
     "data": {
      "text/plain": [
       "0.2417887286617949"
      ]
     },
     "execution_count": 88,
     "metadata": {},
     "output_type": "execute_result"
    }
   ],
   "source": [
    "model.score(x_test,y_test)  #0.2417887286617949"
   ]
  },
  {
   "cell_type": "code",
   "execution_count": 89,
   "metadata": {},
   "outputs": [],
   "source": [
    "rms = sqrt(mean_squared_error(y_test,L_r))"
   ]
  },
  {
   "cell_type": "code",
   "execution_count": 90,
   "metadata": {},
   "outputs": [
    {
     "data": {
      "text/plain": [
       "19703.99943297979"
      ]
     },
     "execution_count": 90,
     "metadata": {},
     "output_type": "execute_result"
    }
   ],
   "source": [
    "rms  #19703.99943297979"
   ]
  },
  {
   "cell_type": "code",
   "execution_count": 91,
   "metadata": {},
   "outputs": [
    {
     "name": "stderr",
     "output_type": "stream",
     "text": [
      "C:\\Users\\pavan\\anaconda3\\lib\\site-packages\\sklearn\\linear_model\\_coordinate_descent.py:1088: DataConversionWarning: A column-vector y was passed when a 1d array was expected. Please change the shape of y to (n_samples, ), for example using ravel().\n",
      "  y = column_or_1d(y, warn=True)\n"
     ]
    },
    {
     "data": {
      "text/plain": [
       "0.06519183406895845"
      ]
     },
     "execution_count": 91,
     "metadata": {},
     "output_type": "execute_result"
    }
   ],
   "source": [
    "from sklearn.linear_model import ElasticNetCV\n",
    "model = ElasticNetCV()\n",
    "model.fit(x_train, y_train)\n",
    "model.score(x_train,y_train)\n",
    "model.score(x_test,y_test)\n",
    "er = model.predict(x_test)\n",
    "r2_score(y_test,er)  #0.06519183406895845"
   ]
  },
  {
   "cell_type": "code",
   "execution_count": 92,
   "metadata": {},
   "outputs": [
    {
     "data": {
      "text/plain": [
       "0.06659649420435976"
      ]
     },
     "execution_count": 92,
     "metadata": {},
     "output_type": "execute_result"
    }
   ],
   "source": [
    "model.score(x_train,y_train) #0.06659649420435976"
   ]
  },
  {
   "cell_type": "code",
   "execution_count": 93,
   "metadata": {},
   "outputs": [
    {
     "data": {
      "text/plain": [
       "0.06519183406895845"
      ]
     },
     "execution_count": 93,
     "metadata": {},
     "output_type": "execute_result"
    }
   ],
   "source": [
    "model.score(x_test,y_test)  #0.06519183406895845"
   ]
  },
  {
   "cell_type": "code",
   "execution_count": 94,
   "metadata": {},
   "outputs": [],
   "source": [
    "rms=sqrt(mean_squared_error(y_test,er))"
   ]
  },
  {
   "cell_type": "code",
   "execution_count": 95,
   "metadata": {},
   "outputs": [
    {
     "data": {
      "text/plain": [
       "21878.64980714331"
      ]
     },
     "execution_count": 95,
     "metadata": {},
     "output_type": "execute_result"
    }
   ],
   "source": [
    "rms #21878.64980714331"
   ]
  },
  {
   "cell_type": "code",
   "execution_count": null,
   "metadata": {},
   "outputs": [],
   "source": []
  },
  {
   "cell_type": "code",
   "execution_count": null,
   "metadata": {},
   "outputs": [],
   "source": []
  }
 ],
 "metadata": {
  "kernelspec": {
   "display_name": "Python 3",
   "language": "python",
   "name": "python3"
  },
  "language_info": {
   "codemirror_mode": {
    "name": "ipython",
    "version": 3
   },
   "file_extension": ".py",
   "mimetype": "text/x-python",
   "name": "python",
   "nbconvert_exporter": "python",
   "pygments_lexer": "ipython3",
   "version": "3.7.3-final"
  }
 },
 "nbformat": 4,
 "nbformat_minor": 4
}